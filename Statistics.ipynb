{
 "cells": [
  {
   "cell_type": "code",
   "execution_count": 33,
   "metadata": {},
   "outputs": [],
   "source": [
    "import pandas as pd\n",
    "import numpy as np\n",
    "import matplotlib.pyplot as plt\n",
    "import matplotlib.ticker as ticker\n",
    "import random \n",
    "import copy\n",
    "%matplotlib inline"
   ]
  },
  {
   "cell_type": "code",
   "execution_count": 3,
   "metadata": {},
   "outputs": [],
   "source": [
    "def diff(x,y):\n",
    "    '''\n",
    "        Compare 2 floats\n",
    "    '''\n",
    "    return abs((x-y)/y)"
   ]
  },
  {
   "cell_type": "code",
   "execution_count": 5,
   "metadata": {},
   "outputs": [
    {
     "name": "stdout",
     "output_type": "stream",
     "text": [
      "0.4966878301791441 0.08287661324896954\n"
     ]
    }
   ],
   "source": [
    "pop = np.random.rand(10000)\n",
    "pop_mean, pop_var = pop.mean(), pop.var()\n",
    "print pop_mean, pop_var\n",
    "pop_stats = dict(mean=pop_mean, var=pop_var)"
   ]
  },
  {
   "cell_type": "code",
   "execution_count": 7,
   "metadata": {},
   "outputs": [],
   "source": [
    "# estimate unknown variance via sample \n",
    "def est_var_via_sample(sample_size, pop, pop_stats):\n",
    "    _sample = np.random.choice(pop, sample_size, replace=False)\n",
    "    _sum_square_dist_from_mean = _sample.var()*sample_size\n",
    "    _est_var = _sum_square_dist_from_mean/(sample_size-1)\n",
    "    return _est_var, pop_stats['var'], diff(_est_var, pop_stats['var'])"
   ]
  },
  {
   "cell_type": "code",
   "execution_count": 12,
   "metadata": {},
   "outputs": [],
   "source": [
    "sample_size_range = np.arange(10,len(pop)+1,10)\n",
    "result_est = [est_var_via_sample(item, pop, pop_stats) for item in sample_size_range]"
   ]
  },
  {
   "cell_type": "code",
   "execution_count": 13,
   "metadata": {},
   "outputs": [],
   "source": [
    "a_est_var, a_pop_var, a_diff = [list(item) for item in zip(*result_est)]"
   ]
  },
  {
   "cell_type": "code",
   "execution_count": 41,
   "metadata": {},
   "outputs": [
    {
     "data": {
      "image/png": "[encoded data removed]",
      "text/plain": [
       "<Figure size 720x360 with 2 Axes>"
      ]
     },
     "metadata": {
      "needs_background": "light"
     },
     "output_type": "display_data"
    }
   ],
   "source": [
    "fig = plt.figure(figsize=(10,5))\n",
    "ax = fig.add_subplot(2,1,1)\n",
    "ax.plot(sample_size_range, a_pop_var, color='r');\n",
    "ax.scatter(sample_size_range, a_est_var, s=10);\n",
    "ax.tick_params(labelsize=12.5)\n",
    "ax.set_xlim([10, 1000])\n",
    "#\n",
    "ax2 = fig.add_subplot(2,1,2)\n",
    "ax2.scatter(sample_size_range, np.multiply(a_diff,100), s=10, color='g');\n",
    "# labels\n",
    "ax2.xaxis.set_minor_locator(ticker.MultipleLocator(10))\n",
    "ax2.xaxis.set_major_locator(ticker.MultipleLocator(100))\n",
    "ax2.yaxis.set_minor_locator(ticker.MultipleLocator(2.5))\n",
    "ax2.yaxis.set_major_locator(ticker.MultipleLocator(5))\n",
    "#\n",
    "ax2.tick_params(labelsize=12.5)\n",
    "ax2.set_xlim([10, 1000])\n",
    "ax2.grid(which='minor', axis='y')\n",
    "ax2.grid(which='major', axis='x')"
   ]
  },
  {
   "cell_type": "code",
   "execution_count": null,
   "metadata": {},
   "outputs": [],
   "source": []
  }
 ],
 "metadata": {
  "kernelspec": {
   "display_name": "Python 2",
   "language": "python",
   "name": "python2"
  },
  "language_info": {
   "codemirror_mode": {
    "name": "ipython",
    "version": 2
   },
   "file_extension": ".py",
   "mimetype": "text/x-python",
   "name": "python",
   "nbconvert_exporter": "python",
   "pygments_lexer": "ipython2",
   "version": "2.7.16"
  }
 },
 "nbformat": 4,
 "nbformat_minor": 2
}
